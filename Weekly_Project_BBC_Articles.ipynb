{
  "nbformat": 4,
  "nbformat_minor": 0,
  "metadata": {
    "kernelspec": {
      "display_name": "Python 3",
      "language": "python",
      "name": "python3"
    },
    "language_info": {
      "codemirror_mode": {
        "name": "ipython",
        "version": 3
      },
      "file_extension": ".py",
      "mimetype": "text/x-python",
      "name": "python",
      "nbconvert_exporter": "python",
      "pygments_lexer": "ipython3",
      "version": "3.7.6"
    },
    "colab": {
      "name": "Weekly-Project-BBC Articles.ipynb",
      "provenance": [],
      "collapsed_sections": [],
      "include_colab_link": true
    }
  },
  "cells": [
    {
      "cell_type": "markdown",
      "metadata": {
        "id": "view-in-github",
        "colab_type": "text"
      },
      "source": [
        "<a href=\"https://colab.research.google.com/github/Phamhoahoa/100-Days-Of-ML-Code/blob/master/Weekly_Project_BBC_Articles.ipynb\" target=\"_parent\"><img src=\"https://colab.research.google.com/assets/colab-badge.svg\" alt=\"Open In Colab\"/></a>"
      ]
    },
    {
      "cell_type": "markdown",
      "metadata": {
        "id": "s8btHNo7H5Cf"
      },
      "source": [
        "# Organize ML projects with Scikit-Learn"
      ]
    },
    {
      "cell_type": "markdown",
      "metadata": {
        "id": "8yK9CuWlH5Ch"
      },
      "source": [
        "While Machine Learning is powerful, people often overestimate it: apply machine learning to your project, and all your problems will be solved. In reality, it's not this simple. To be effective, one needs to organize the work very well. In this notebook, we will walkthrough practical aspects of a ML project. To look at the big picture, let's start with a checklist below. It should work reasonably well for most ML projects, but make sure to adapt it to your needs:\n",
        "\n",
        "1. **Define the scope of work and objective**\n",
        "    * How is your solution be used?\n",
        "    * How should performance be measured? Are there any contraints?\n",
        "    * How would the problem be solved manually?\n",
        "    * List the available assumptions, and verify if possible.\n",
        "    \n",
        "    \n",
        "2. **Get the data**\n",
        "    * Document where you can get that data\n",
        "    * Store data in a workspace you can easily access\n",
        "    * Convert the data to a format you can easily manipulate\n",
        "    * Check the overview (size, type, sample, description, statistics)\n",
        "    * Data cleaning\n",
        "    \n",
        "    \n",
        "3. **EDA & Data transformation**\n",
        "    * Study each attribute and its characteristics (missing values, type of distribution, usefulness)\n",
        "    * Visualize the data\n",
        "    * Study the correlations between attributes\n",
        "    * Feature selection, Feature Engineering, Feature scaling\n",
        "    * Write functions for all data transformations\n",
        "    \n",
        "    \n",
        "4. **Train models**\n",
        "    * Automate as much as possible\n",
        "    * Train promising models quickly using standard parameters. Measure and compare their performance\n",
        "    * Analyze the errors the models make\n",
        "    * Shortlist the top three of five most promising models, preferring models that make different types of errors.\n",
        "\n",
        "\n",
        "5. **Fine-tunning**\n",
        "    * Treat data transformation choices as hyperparameters, expecially when you are not sure about them (e.g., replace missing values with zeros or with the median value)\n",
        "    * Unless there are very few hyperparameter value to explore, prefer random search over grid search.\n",
        "    * Try ensemble methods\n",
        "    * Test your final model on the test set to estimate the generalizaiton error. Don't tweak your model again, you would start overfitting the test set."
      ]
    },
    {
      "cell_type": "markdown",
      "metadata": {
        "id": "ofeuKevOH5Ch"
      },
      "source": [
        "## Example: Articles categorization"
      ]
    },
    {
      "cell_type": "markdown",
      "metadata": {
        "id": "m2NSUqUEH5Ci"
      },
      "source": [
        "### Objectives"
      ]
    },
    {
      "cell_type": "markdown",
      "metadata": {
        "id": "5GttlMG-H5Cj"
      },
      "source": [
        "Build a model to determine the categories of articles. "
      ]
    },
    {
      "cell_type": "code",
      "metadata": {
        "id": "xy4O-Dw-Bx7W",
        "outputId": "ecd8eeaf-faa5-4358-a89d-395f9de4c3d7",
        "colab": {
          "base_uri": "https://localhost:8080/",
          "height": 34
        }
      },
      "source": [
        "from google.colab import drive\n",
        "drive.mount('/content/drive')"
      ],
      "execution_count": 2,
      "outputs": [
        {
          "output_type": "stream",
          "text": [
            "Mounted at /content/drive\n"
          ],
          "name": "stdout"
        }
      ]
    },
    {
      "cell_type": "code",
      "metadata": {
        "id": "KQOQ0vOtByNT"
      },
      "source": [
        ""
      ],
      "execution_count": null,
      "outputs": []
    },
    {
      "cell_type": "markdown",
      "metadata": {
        "id": "EwbjWOG1H5Ck"
      },
      "source": [
        "### Get Data"
      ]
    },
    {
      "cell_type": "code",
      "metadata": {
        "id": "iWq7xex_H5Ck"
      },
      "source": [
        "import numpy as np\n",
        "import pandas as pd\n",
        "import seaborn as sns\n",
        "import matplotlib.pyplot as plt\n",
        "%matplotlib inline\n",
        "\n",
        "import warnings\n",
        "warnings.filterwarnings('ignore')\n",
        "\n",
        "sns.set_style(\"whitegrid\")"
      ],
      "execution_count": 3,
      "outputs": []
    },
    {
      "cell_type": "code",
      "metadata": {
        "id": "m9W7Hzt2H5Cp"
      },
      "source": [
        "bbc = pd.read_csv('https://raw.githubusercontent.com/dhminh1024/practice_datasets/master/bbc-text.csv')"
      ],
      "execution_count": 4,
      "outputs": []
    },
    {
      "cell_type": "code",
      "metadata": {
        "id": "teb1QvD1H5Cs",
        "outputId": "779403bb-501d-40f4-ca9b-43b176ea2b2f",
        "colab": {
          "base_uri": "https://localhost:8080/",
          "height": 204
        }
      },
      "source": [
        "bbc.sample(5)"
      ],
      "execution_count": 5,
      "outputs": [
        {
          "output_type": "execute_result",
          "data": {
            "text/html": [
              "<div>\n",
              "<style scoped>\n",
              "    .dataframe tbody tr th:only-of-type {\n",
              "        vertical-align: middle;\n",
              "    }\n",
              "\n",
              "    .dataframe tbody tr th {\n",
              "        vertical-align: top;\n",
              "    }\n",
              "\n",
              "    .dataframe thead th {\n",
              "        text-align: right;\n",
              "    }\n",
              "</style>\n",
              "<table border=\"1\" class=\"dataframe\">\n",
              "  <thead>\n",
              "    <tr style=\"text-align: right;\">\n",
              "      <th></th>\n",
              "      <th>category</th>\n",
              "      <th>text</th>\n",
              "    </tr>\n",
              "  </thead>\n",
              "  <tbody>\n",
              "    <tr>\n",
              "      <th>1993</th>\n",
              "      <td>business</td>\n",
              "      <td>parmalat bank barred from suing bank of americ...</td>\n",
              "    </tr>\n",
              "    <tr>\n",
              "      <th>929</th>\n",
              "      <td>tech</td>\n",
              "      <td>casual gaming to  take off  games aimed at  ca...</td>\n",
              "    </tr>\n",
              "    <tr>\n",
              "      <th>2060</th>\n",
              "      <td>sport</td>\n",
              "      <td>wenger dejected as arsenal slump arsenal manag...</td>\n",
              "    </tr>\n",
              "    <tr>\n",
              "      <th>773</th>\n",
              "      <td>sport</td>\n",
              "      <td>blackburn v burnley ewood park  tuesday  1 mar...</td>\n",
              "    </tr>\n",
              "    <tr>\n",
              "      <th>1652</th>\n",
              "      <td>entertainment</td>\n",
              "      <td>duran duran show set for us tv chart stars dur...</td>\n",
              "    </tr>\n",
              "  </tbody>\n",
              "</table>\n",
              "</div>"
            ],
            "text/plain": [
              "           category                                               text\n",
              "1993       business  parmalat bank barred from suing bank of americ...\n",
              "929            tech  casual gaming to  take off  games aimed at  ca...\n",
              "2060          sport  wenger dejected as arsenal slump arsenal manag...\n",
              "773           sport  blackburn v burnley ewood park  tuesday  1 mar...\n",
              "1652  entertainment  duran duran show set for us tv chart stars dur..."
            ]
          },
          "metadata": {
            "tags": []
          },
          "execution_count": 5
        }
      ]
    },
    {
      "cell_type": "markdown",
      "metadata": {
        "id": "mGaOiHkQP2vO"
      },
      "source": [
        "### EDA & Data transformation**"
      ]
    },
    {
      "cell_type": "code",
      "metadata": {
        "id": "KBW_Sg2RH5Cy",
        "outputId": "43f9f554-0703-4a47-fb86-2c05a645fc2d",
        "colab": {
          "base_uri": "https://localhost:8080/",
          "height": 170
        }
      },
      "source": [
        "bbc.info()"
      ],
      "execution_count": 6,
      "outputs": [
        {
          "output_type": "stream",
          "text": [
            "<class 'pandas.core.frame.DataFrame'>\n",
            "RangeIndex: 2225 entries, 0 to 2224\n",
            "Data columns (total 2 columns):\n",
            " #   Column    Non-Null Count  Dtype \n",
            "---  ------    --------------  ----- \n",
            " 0   category  2225 non-null   object\n",
            " 1   text      2225 non-null   object\n",
            "dtypes: object(2)\n",
            "memory usage: 34.9+ KB\n"
          ],
          "name": "stdout"
        }
      ]
    },
    {
      "cell_type": "code",
      "metadata": {
        "id": "dh3VRY5Zxmw6",
        "outputId": "437ed78a-8ba3-4654-c9ec-82724508fd8a",
        "colab": {
          "base_uri": "https://localhost:8080/",
          "height": 34
        }
      },
      "source": [
        "# Your code here\n",
        "set(bbc['category'])"
      ],
      "execution_count": 8,
      "outputs": [
        {
          "output_type": "execute_result",
          "data": {
            "text/plain": [
              "{'business', 'entertainment', 'politics', 'sport', 'tech'}"
            ]
          },
          "metadata": {
            "tags": []
          },
          "execution_count": 8
        }
      ]
    },
    {
      "cell_type": "code",
      "metadata": {
        "id": "h3kYK8rWCWi8",
        "outputId": "59142ce5-a11e-4cd1-8575-c61a0fbd8478",
        "colab": {
          "base_uri": "https://localhost:8080/",
          "height": 173
        }
      },
      "source": [
        "bbc.describe()"
      ],
      "execution_count": 9,
      "outputs": [
        {
          "output_type": "execute_result",
          "data": {
            "text/html": [
              "<div>\n",
              "<style scoped>\n",
              "    .dataframe tbody tr th:only-of-type {\n",
              "        vertical-align: middle;\n",
              "    }\n",
              "\n",
              "    .dataframe tbody tr th {\n",
              "        vertical-align: top;\n",
              "    }\n",
              "\n",
              "    .dataframe thead th {\n",
              "        text-align: right;\n",
              "    }\n",
              "</style>\n",
              "<table border=\"1\" class=\"dataframe\">\n",
              "  <thead>\n",
              "    <tr style=\"text-align: right;\">\n",
              "      <th></th>\n",
              "      <th>category</th>\n",
              "      <th>text</th>\n",
              "    </tr>\n",
              "  </thead>\n",
              "  <tbody>\n",
              "    <tr>\n",
              "      <th>count</th>\n",
              "      <td>2225</td>\n",
              "      <td>2225</td>\n",
              "    </tr>\n",
              "    <tr>\n",
              "      <th>unique</th>\n",
              "      <td>5</td>\n",
              "      <td>2126</td>\n",
              "    </tr>\n",
              "    <tr>\n",
              "      <th>top</th>\n",
              "      <td>sport</td>\n",
              "      <td>progress on new internet domains by early 2005...</td>\n",
              "    </tr>\n",
              "    <tr>\n",
              "      <th>freq</th>\n",
              "      <td>511</td>\n",
              "      <td>2</td>\n",
              "    </tr>\n",
              "  </tbody>\n",
              "</table>\n",
              "</div>"
            ],
            "text/plain": [
              "       category                                               text\n",
              "count      2225                                               2225\n",
              "unique        5                                               2126\n",
              "top       sport  progress on new internet domains by early 2005...\n",
              "freq        511                                                  2"
            ]
          },
          "metadata": {
            "tags": []
          },
          "execution_count": 9
        }
      ]
    },
    {
      "cell_type": "code",
      "metadata": {
        "id": "2IdzHrwoCjdx",
        "outputId": "b6f7312a-3f6e-45ff-f3c9-b28fd5ecae8f",
        "colab": {
          "base_uri": "https://localhost:8080/",
          "height": 34
        }
      },
      "source": [
        "bbc = bbc.drop_duplicates()\n",
        "len(bbc)"
      ],
      "execution_count": 10,
      "outputs": [
        {
          "output_type": "execute_result",
          "data": {
            "text/plain": [
              "2126"
            ]
          },
          "metadata": {
            "tags": []
          },
          "execution_count": 10
        }
      ]
    },
    {
      "cell_type": "code",
      "metadata": {
        "id": "t1FR5KKYFeWz",
        "outputId": "206fffb8-cf28-4b8d-ea1c-4c1e794e5302",
        "colab": {
          "base_uri": "https://localhost:8080/",
          "height": 204
        }
      },
      "source": [
        "category = bbc.groupby('category', as_index= False).size()\n",
        "category"
      ],
      "execution_count": 13,
      "outputs": [
        {
          "output_type": "execute_result",
          "data": {
            "text/html": [
              "<div>\n",
              "<style scoped>\n",
              "    .dataframe tbody tr th:only-of-type {\n",
              "        vertical-align: middle;\n",
              "    }\n",
              "\n",
              "    .dataframe tbody tr th {\n",
              "        vertical-align: top;\n",
              "    }\n",
              "\n",
              "    .dataframe thead th {\n",
              "        text-align: right;\n",
              "    }\n",
              "</style>\n",
              "<table border=\"1\" class=\"dataframe\">\n",
              "  <thead>\n",
              "    <tr style=\"text-align: right;\">\n",
              "      <th></th>\n",
              "      <th>category</th>\n",
              "      <th>size</th>\n",
              "    </tr>\n",
              "  </thead>\n",
              "  <tbody>\n",
              "    <tr>\n",
              "      <th>0</th>\n",
              "      <td>business</td>\n",
              "      <td>503</td>\n",
              "    </tr>\n",
              "    <tr>\n",
              "      <th>1</th>\n",
              "      <td>entertainment</td>\n",
              "      <td>369</td>\n",
              "    </tr>\n",
              "    <tr>\n",
              "      <th>2</th>\n",
              "      <td>politics</td>\n",
              "      <td>403</td>\n",
              "    </tr>\n",
              "    <tr>\n",
              "      <th>3</th>\n",
              "      <td>sport</td>\n",
              "      <td>504</td>\n",
              "    </tr>\n",
              "    <tr>\n",
              "      <th>4</th>\n",
              "      <td>tech</td>\n",
              "      <td>347</td>\n",
              "    </tr>\n",
              "  </tbody>\n",
              "</table>\n",
              "</div>"
            ],
            "text/plain": [
              "        category  size\n",
              "0       business   503\n",
              "1  entertainment   369\n",
              "2       politics   403\n",
              "3          sport   504\n",
              "4           tech   347"
            ]
          },
          "metadata": {
            "tags": []
          },
          "execution_count": 13
        }
      ]
    },
    {
      "cell_type": "code",
      "metadata": {
        "id": "9EHx5yfQFx7D",
        "outputId": "b74745c3-c197-45f8-8da2-e770adb2a53d",
        "colab": {
          "base_uri": "https://localhost:8080/",
          "height": 279
        }
      },
      "source": [
        "category.plot.bar()"
      ],
      "execution_count": 17,
      "outputs": [
        {
          "output_type": "execute_result",
          "data": {
            "text/plain": [
              "<matplotlib.axes._subplots.AxesSubplot at 0x7f44898b9d68>"
            ]
          },
          "metadata": {
            "tags": []
          },
          "execution_count": 17
        },
        {
          "output_type": "display_data",
          "data": {
            "image/png": "[encoded data removed]",
            "text/plain": [
              "<Figure size 432x288 with 1 Axes>"
            ]
          },
          "metadata": {
            "tags": []
          }
        }
      ]
    },
    {
      "cell_type": "code",
      "metadata": {
        "id": "kW-ek7gLGP18"
      },
      "source": [
        "from sklearn import model_selection, preprocessing, linear_model, naive_bayes, metrics, svm\n",
        "from sklearn.feature_extraction.text import TfidfVectorizer, CountVectorizer\n",
        "from sklearn import decomposition, ensemble\n",
        "import  numpy, textblob, string\n",
        "from keras.preprocessing import text, sequence\n"
      ],
      "execution_count": 33,
      "outputs": []
    },
    {
      "cell_type": "code",
      "metadata": {
        "id": "X8Tmb4NsG38J"
      },
      "source": [
        "X = bbc['text'].to_list()\n",
        "y= bbc['category'].to_list()\n",
        "from sklearn.model_selection import train_test_split\n",
        "X_train, X_test, y_train, y_test = train_test_split(X, y, test_size=0.2, random_state=42)"
      ],
      "execution_count": 34,
      "outputs": []
    },
    {
      "cell_type": "code",
      "metadata": {
        "id": "MOivqJ8wIvDZ",
        "outputId": "af769822-1e07-4918-e77e-395ac18c4224",
        "colab": {
          "base_uri": "https://localhost:8080/",
          "height": 34
        }
      },
      "source": [
        "tfidf_vect = TfidfVectorizer(analyzer='word',stop_words= 'english', max_features=30000)\n",
        "tfidf_vect.fit(X_train)\n",
        "X_data_tfidf =  tfidf_vect.transform(X_train)\n",
        "X_test_tfidf =  tfidf_vect.transform(X_test)\n",
        "print(X_train_tfidf.shape)"
      ],
      "execution_count": 35,
      "outputs": [
        {
          "output_type": "stream",
          "text": [
            "(1700, 26774)\n"
          ],
          "name": "stdout"
        }
      ]
    },
    {
      "cell_type": "markdown",
      "metadata": {
        "id": "Ndpf3UMVQAQ_"
      },
      "source": [
        "### Train models with SVM, MultinomialNB, LogisticRegression, RandomForest "
      ]
    },
    {
      "cell_type": "code",
      "metadata": {
        "id": "4iXKneEzJoC9"
      },
      "source": [
        "pd.set_option('display.max_rows', None)\n",
        "def train_model(classifier, X_data, y_data, X_test, y_test):       \n",
        "    X_train, X_val, y_train, y_val = train_test_split(X_data, y_data, test_size=0.1, random_state=42)\n",
        "    result = pd.DataFrame(columns=['predict','category'])\n",
        "    classifier.fit(X_train, y_train)\n",
        "    train_predictions = classifier.predict(X_train)\n",
        "    val_predictions = classifier.predict(X_val)\n",
        "    test_predictions = classifier.predict(X_test)\n",
        "    result['predict'] = test_predictions\n",
        "    result['category'] = y_test\n",
        "    print(result[0:20])\n",
        "    print(\"Validation accuracy: \", metrics.accuracy_score(val_predictions, y_val))\n",
        "    print(\"Test accuracy: \", metrics.accuracy_score(test_predictions, y_test))"
      ],
      "execution_count": 52,
      "outputs": []
    },
    {
      "cell_type": "markdown",
      "metadata": {
        "id": "zG-Xe40bQs6C"
      },
      "source": [
        "#### MultinomialNB"
      ]
    },
    {
      "cell_type": "code",
      "metadata": {
        "id": "-KaD9CUxNNFK",
        "outputId": "1f681e66-59b3-4a8f-c40d-85cc6d8f6be4",
        "colab": {
          "base_uri": "https://localhost:8080/",
          "height": 408
        }
      },
      "source": [
        "train_model(naive_bayes.MultinomialNB(), X_train_tfidf, y_train, X_test_tfidf, y_test)"
      ],
      "execution_count": 53,
      "outputs": [
        {
          "output_type": "stream",
          "text": [
            "          predict       category\n",
            "0        politics       politics\n",
            "1        business       business\n",
            "2           sport          sport\n",
            "3           sport          sport\n",
            "4        business       business\n",
            "5   entertainment  entertainment\n",
            "6            tech           tech\n",
            "7           sport          sport\n",
            "8        politics       politics\n",
            "9            tech           tech\n",
            "10          sport          sport\n",
            "11       politics       politics\n",
            "12          sport          sport\n",
            "13           tech           tech\n",
            "14       business       business\n",
            "15       business       business\n",
            "16          sport          sport\n",
            "17       politics       politics\n",
            "18       politics       politics\n",
            "19       business       business\n",
            "Validation accuracy:  0.9588235294117647\n",
            "Test accuracy:  0.9647887323943662\n"
          ],
          "name": "stdout"
        }
      ]
    },
    {
      "cell_type": "markdown",
      "metadata": {
        "id": "sjyD9C7eQyUY"
      },
      "source": [
        "#### LogisticRegression"
      ]
    },
    {
      "cell_type": "code",
      "metadata": {
        "id": "YpsU11T-NVmx",
        "outputId": "4dcbb4a5-e64f-46cb-8368-e4f5ba3b9f4e",
        "colab": {
          "base_uri": "https://localhost:8080/",
          "height": 408
        }
      },
      "source": [
        "train_model(linear_model.LogisticRegression(C=1), X_train_tfidf, y_train, X_test_tfidf, y_test)"
      ],
      "execution_count": 54,
      "outputs": [
        {
          "output_type": "stream",
          "text": [
            "          predict       category\n",
            "0        politics       politics\n",
            "1        business       business\n",
            "2           sport          sport\n",
            "3           sport          sport\n",
            "4        business       business\n",
            "5   entertainment  entertainment\n",
            "6            tech           tech\n",
            "7           sport          sport\n",
            "8        politics       politics\n",
            "9            tech           tech\n",
            "10          sport          sport\n",
            "11       politics       politics\n",
            "12          sport          sport\n",
            "13           tech           tech\n",
            "14       business       business\n",
            "15       business       business\n",
            "16          sport          sport\n",
            "17       politics       politics\n",
            "18       politics       politics\n",
            "19       business       business\n",
            "Validation accuracy:  0.9647058823529412\n",
            "Test accuracy:  0.9765258215962441\n"
          ],
          "name": "stdout"
        }
      ]
    },
    {
      "cell_type": "markdown",
      "metadata": {
        "id": "V_0yqVlWQ2ZE"
      },
      "source": [
        "#### SVM"
      ]
    },
    {
      "cell_type": "code",
      "metadata": {
        "id": "a13ibGrPNYdF",
        "outputId": "d4582b12-e378-49f5-f213-4dba2ec3e0d1",
        "colab": {
          "base_uri": "https://localhost:8080/",
          "height": 408
        }
      },
      "source": [
        "train_model(svm.SVC(C=1),X_train_tfidf, y_train, X_test_tfidf, y_test)"
      ],
      "execution_count": 55,
      "outputs": [
        {
          "output_type": "stream",
          "text": [
            "          predict       category\n",
            "0        politics       politics\n",
            "1        business       business\n",
            "2           sport          sport\n",
            "3           sport          sport\n",
            "4        business       business\n",
            "5   entertainment  entertainment\n",
            "6            tech           tech\n",
            "7           sport          sport\n",
            "8        politics       politics\n",
            "9            tech           tech\n",
            "10          sport          sport\n",
            "11       politics       politics\n",
            "12          sport          sport\n",
            "13           tech           tech\n",
            "14       business       business\n",
            "15       business       business\n",
            "16          sport          sport\n",
            "17       politics       politics\n",
            "18       politics       politics\n",
            "19       business       business\n",
            "Validation accuracy:  0.9647058823529412\n",
            "Test accuracy:  0.9765258215962441\n"
          ],
          "name": "stdout"
        }
      ]
    },
    {
      "cell_type": "markdown",
      "metadata": {
        "id": "Qf4W0wdMQ7Vt"
      },
      "source": [
        "#### RandomForest"
      ]
    },
    {
      "cell_type": "code",
      "metadata": {
        "id": "gm8en47MNdi4",
        "outputId": "1851a056-b04b-43be-8d5c-c16631399862",
        "colab": {
          "base_uri": "https://localhost:8080/",
          "height": 408
        }
      },
      "source": [
        "train_model(ensemble.RandomForestClassifier(), X_train_tfidf, y_train, X_test_tfidf, y_test)"
      ],
      "execution_count": 56,
      "outputs": [
        {
          "output_type": "stream",
          "text": [
            "          predict       category\n",
            "0        politics       politics\n",
            "1        business       business\n",
            "2           sport          sport\n",
            "3           sport          sport\n",
            "4        business       business\n",
            "5   entertainment  entertainment\n",
            "6            tech           tech\n",
            "7           sport          sport\n",
            "8        politics       politics\n",
            "9            tech           tech\n",
            "10          sport          sport\n",
            "11       politics       politics\n",
            "12          sport          sport\n",
            "13           tech           tech\n",
            "14       business       business\n",
            "15       business       business\n",
            "16          sport          sport\n",
            "17       politics       politics\n",
            "18       politics       politics\n",
            "19       business       business\n",
            "Validation accuracy:  0.9823529411764705\n",
            "Test accuracy:  0.9553990610328639\n"
          ],
          "name": "stdout"
        }
      ]
    },
    {
      "cell_type": "markdown",
      "metadata": {
        "id": "wpQ5sFVWQVtz"
      },
      "source": [
        "### Fine-tunning model SVM, find c =100"
      ]
    },
    {
      "cell_type": "code",
      "metadata": {
        "id": "v9xlHKEROFmk",
        "outputId": "37e86cad-0cf3-4c76-ee40-e4d3b7053c4d",
        "colab": {
          "base_uri": "https://localhost:8080/",
          "height": 51
        }
      },
      "source": [
        "from sklearn.model_selection import GridSearchCV\n",
        "param_grid = {'C': [0.001, 0.01, 0.1, 1, 10, 100, 1000] }\n",
        "clf = GridSearchCV(linear_model.LogisticRegression(penalty='l2'), param_grid)\n",
        "clf.fit(X_train_tfidf, y_train)\n",
        "print('Best score:', clf.best_score_)\n",
        "print(\"Best parameter_gram:\",clf.best_params_)"
      ],
      "execution_count": 57,
      "outputs": [
        {
          "output_type": "stream",
          "text": [
            "Best score: 0.9764705882352942\n",
            "Best parameter_gram: {'C': 100}\n"
          ],
          "name": "stdout"
        }
      ]
    },
    {
      "cell_type": "code",
      "metadata": {
        "id": "5G2FaXZkOsov",
        "outputId": "20ede2ab-5b71-414e-8649-407cc8776575",
        "colab": {
          "base_uri": "https://localhost:8080/",
          "height": 408
        }
      },
      "source": [
        "train_model(svm.SVC(C=100),X_train_tfidf, y_train, X_test_tfidf, y_test)"
      ],
      "execution_count": 58,
      "outputs": [
        {
          "output_type": "stream",
          "text": [
            "          predict       category\n",
            "0        politics       politics\n",
            "1        business       business\n",
            "2           sport          sport\n",
            "3           sport          sport\n",
            "4        business       business\n",
            "5   entertainment  entertainment\n",
            "6            tech           tech\n",
            "7           sport          sport\n",
            "8        politics       politics\n",
            "9            tech           tech\n",
            "10          sport          sport\n",
            "11       politics       politics\n",
            "12          sport          sport\n",
            "13           tech           tech\n",
            "14       business       business\n",
            "15       business       business\n",
            "16          sport          sport\n",
            "17       politics       politics\n",
            "18       politics       politics\n",
            "19       business       business\n",
            "Validation accuracy:  0.9705882352941176\n",
            "Test accuracy:  0.9788732394366197\n"
          ],
          "name": "stdout"
        }
      ]
    },
    {
      "cell_type": "code",
      "metadata": {
        "id": "LwOnyt_uPB9a"
      },
      "source": [
        ""
      ],
      "execution_count": 58,
      "outputs": []
    }
  ]
}